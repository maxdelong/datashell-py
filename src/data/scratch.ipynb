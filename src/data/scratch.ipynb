{
 "cells": [
  {
   "cell_type": "code",
   "execution_count": 2,
   "metadata": {},
   "outputs": [],
   "source": [
    "import polars as pl\n",
    "from pathlib import Path\n",
    "\n",
    "file_path = \"../data/credit_card_transactions\"\n",
    "csv_path = Path(file_path).with_suffix('.csv')\n",
    "parquet_path = Path(file_path).with_suffix('.parquet')\n",
    "\n",
    "# df = pl.read_csv(csv_path)\n",
    "\n",
    "# Write the DataFrame to a Parquet file\n",
    "# df.write_parquet(parquet_path)"
   ]
  },
  {
   "cell_type": "code",
   "execution_count": 12,
   "metadata": {},
   "outputs": [
    {
     "ename": "ArrowInvalid",
     "evalue": "Some index in row_group_indices is 4, which is either < 0 or >= num_row_groups(4)",
     "output_type": "error",
     "traceback": [
      "\u001b[1;31m---------------------------------------------------------------------------\u001b[0m",
      "\u001b[1;31mArrowInvalid\u001b[0m                              Traceback (most recent call last)",
      "Cell \u001b[1;32mIn[12], line 15\u001b[0m\n\u001b[0;32m     13\u001b[0m n \u001b[38;5;241m=\u001b[39m parquet_file\u001b[38;5;241m.\u001b[39mnum_row_groups\n\u001b[0;32m     14\u001b[0m \u001b[38;5;28;01mfor\u001b[39;00m i \u001b[38;5;129;01min\u001b[39;00m \u001b[38;5;28mrange\u001b[39m(n):\n\u001b[1;32m---> 15\u001b[0m     \u001b[38;5;28mprint\u001b[39m(\u001b[43mparquet_file\u001b[49m\u001b[38;5;241;43m.\u001b[39;49m\u001b[43mread_row_group\u001b[49m\u001b[43m(\u001b[49m\u001b[43mn\u001b[49m\u001b[43m)\u001b[49m)\n",
      "File \u001b[1;32mc:\\Users\\Max\\OneDrive\\Documents\\GitHub\\datashell-py\\.venv\\Lib\\site-packages\\pyarrow\\parquet\\core.py:467\u001b[0m, in \u001b[0;36mParquetFile.read_row_group\u001b[1;34m(self, i, columns, use_threads, use_pandas_metadata)\u001b[0m\n\u001b[0;32m    425\u001b[0m \u001b[38;5;250m\u001b[39m\u001b[38;5;124;03m\"\"\"\u001b[39;00m\n\u001b[0;32m    426\u001b[0m \u001b[38;5;124;03mRead a single row group from a Parquet file.\u001b[39;00m\n\u001b[0;32m    427\u001b[0m \n\u001b[1;32m   (...)\u001b[0m\n\u001b[0;32m    463\u001b[0m \u001b[38;5;124;03manimal: [[\"Flamingo\",\"Parrot\",...,\"Brittle stars\",\"Centipede\"]]\u001b[39;00m\n\u001b[0;32m    464\u001b[0m \u001b[38;5;124;03m\"\"\"\u001b[39;00m\n\u001b[0;32m    465\u001b[0m column_indices \u001b[38;5;241m=\u001b[39m \u001b[38;5;28mself\u001b[39m\u001b[38;5;241m.\u001b[39m_get_column_indices(\n\u001b[0;32m    466\u001b[0m     columns, use_pandas_metadata\u001b[38;5;241m=\u001b[39muse_pandas_metadata)\n\u001b[1;32m--> 467\u001b[0m \u001b[38;5;28;01mreturn\u001b[39;00m \u001b[38;5;28;43mself\u001b[39;49m\u001b[38;5;241;43m.\u001b[39;49m\u001b[43mreader\u001b[49m\u001b[38;5;241;43m.\u001b[39;49m\u001b[43mread_row_group\u001b[49m\u001b[43m(\u001b[49m\u001b[43mi\u001b[49m\u001b[43m,\u001b[49m\u001b[43m \u001b[49m\u001b[43mcolumn_indices\u001b[49m\u001b[38;5;241;43m=\u001b[39;49m\u001b[43mcolumn_indices\u001b[49m\u001b[43m,\u001b[49m\n\u001b[0;32m    468\u001b[0m \u001b[43m                                  \u001b[49m\u001b[43muse_threads\u001b[49m\u001b[38;5;241;43m=\u001b[39;49m\u001b[43muse_threads\u001b[49m\u001b[43m)\u001b[49m\n",
      "File \u001b[1;32mc:\\Users\\Max\\OneDrive\\Documents\\GitHub\\datashell-py\\.venv\\Lib\\site-packages\\pyarrow\\_parquet.pyx:1642\u001b[0m, in \u001b[0;36mpyarrow._parquet.ParquetReader.read_row_group\u001b[1;34m()\u001b[0m\n",
      "File \u001b[1;32mc:\\Users\\Max\\OneDrive\\Documents\\GitHub\\datashell-py\\.venv\\Lib\\site-packages\\pyarrow\\_parquet.pyx:1678\u001b[0m, in \u001b[0;36mpyarrow._parquet.ParquetReader.read_row_groups\u001b[1;34m()\u001b[0m\n",
      "File \u001b[1;32mc:\\Users\\Max\\OneDrive\\Documents\\GitHub\\datashell-py\\.venv\\Lib\\site-packages\\pyarrow\\error.pxi:92\u001b[0m, in \u001b[0;36mpyarrow.lib.check_status\u001b[1;34m()\u001b[0m\n",
      "\u001b[1;31mArrowInvalid\u001b[0m: Some index in row_group_indices is 4, which is either < 0 or >= num_row_groups(4)"
     ]
    }
   ],
   "source": [
    "\n",
    "import pyarrow.parquet as pq\n",
    "\n",
    "parquet_file = pq.ParquetFile(parquet_path)\n",
    "# print({\n",
    "#     'file_type': 'Parquet',\n",
    "#     'num_rows': parquet_file.metadata.num_rows,\n",
    "#     'num_columns': parquet_file.metadata.num_columns,\n",
    "#     # 'schema': str(parquet_file.schema),\n",
    "#     'all_metadata': parquet_file.num_row_groups\n",
    "# })\n",
    "\n",
    "\n",
    "n = parquet_file.num_row_groups\n",
    "for i in range(n):\n",
    "    print(parquet_file.read_row_group(n))"
   ]
  }
 ],
 "metadata": {
  "kernelspec": {
   "display_name": ".venv",
   "language": "python",
   "name": "python3"
  },
  "language_info": {
   "codemirror_mode": {
    "name": "ipython",
    "version": 3
   },
   "file_extension": ".py",
   "mimetype": "text/x-python",
   "name": "python",
   "nbconvert_exporter": "python",
   "pygments_lexer": "ipython3",
   "version": "3.12.2"
  }
 },
 "nbformat": 4,
 "nbformat_minor": 2
}
