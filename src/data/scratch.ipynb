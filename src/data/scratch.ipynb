{
 "cells": [
  {
   "cell_type": "code",
   "execution_count": 2,
   "metadata": {},
   "outputs": [],
   "source": [
    "import polars as pl\n",
    "from pathlib import Path\n",
    "\n",
    "file_path = \"../data/credit_card_transactions\"\n",
    "csv_path = Path(file_path).with_suffix('.csv')\n",
    "parquet_path = Path(file_path).with_suffix('.parquet')\n",
    "\n",
    "df = pl.read_csv(csv_path)\n",
    "\n",
    "# Write the DataFrame to a Parquet file\n",
    "df.write_parquet(parquet_path)"
   ]
  }
 ],
 "metadata": {
  "kernelspec": {
   "display_name": ".venv",
   "language": "python",
   "name": "python3"
  },
  "language_info": {
   "codemirror_mode": {
    "name": "ipython",
    "version": 3
   },
   "file_extension": ".py",
   "mimetype": "text/x-python",
   "name": "python",
   "nbconvert_exporter": "python",
   "pygments_lexer": "ipython3",
   "version": "3.12.2"
  }
 },
 "nbformat": 4,
 "nbformat_minor": 2
}
